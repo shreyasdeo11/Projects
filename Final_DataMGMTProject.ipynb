{
 "cells": [
  {
   "cell_type": "markdown",
   "metadata": {
    "id": "e68910cb-fb4d-496d-8e37-214dda2b7300",
    "outputId": "ce228ef1-fd08-49a1-a05d-8410d261d87b"
   },
   "source": [
    "## Problem 1 - Part A"
   ]
  },
  {
   "cell_type": "code",
   "execution_count": null,
   "metadata": {
    "id": "f47bd83e-47c7-4d95-aff2-82e2734fe359",
    "outputId": "51cbef44-89c5-4359-a9a0-56e6ec653921"
   },
   "outputs": [
    {
     "name": "stdout",
     "output_type": "stream",
     "text": [
      "Project Gutenberg’s The Hound of the Baskervilles, by A. Conan Doyle\n",
      "\n",
      "This eBook is for the use of anyone anywhere at no cost and with\n",
      "almost no restrictions whatsoever.  You may copy it, give it away or\n",
      "re-use it under the terms of the Project Gutenberg License included\n",
      "with this eBook or online at www.gutenberg.org\n",
      "\n",
      "\n",
      "Title: The Hound of the Baskervilles\n",
      "\n",
      "Author: A. Conan Doyle\n"
     ]
    }
   ],
   "source": [
    "!head -11 ./hound.txt"
   ]
  },
  {
   "cell_type": "markdown",
   "metadata": {
    "id": "034301a3-121c-4a29-9f59-2aa3e5673bfe",
    "tags": []
   },
   "source": [
    "The number of times Holmes is mentioned:"
   ]
  },
  {
   "cell_type": "code",
   "execution_count": null,
   "metadata": {
    "id": "3f3156f2-a391-4019-975f-eec838575c29",
    "outputId": "54c5df21-1498-4061-8660-3492301ed3ce"
   },
   "outputs": [
    {
     "name": "stdout",
     "output_type": "stream",
     "text": [
      "Chapter 1. Mr. Sherlock Holmes\n",
      "Mr. Sherlock Holmes, who was usually very late in the mornings, save\n",
      "Holmes was sitting with his back to me, and I had given him no sign of\n",
      "“Good!” said Holmes. “Excellent!”\n",
      "“Perfectly sound!” said Holmes.\n",
      "“Really, Watson, you excel yourself,” said Holmes, pushing back his\n",
      "I laughed incredulously as Sherlock Holmes leaned back in his settee and\n",
      "“No mention of that local hunt, Watson,” said Holmes with a mischievous\n",
      "of science, ask of Sherlock Holmes, the specialist in crime? Come in!”\n",
      "entered his eyes fell upon the stick in Holmes’s hand, and he ran\n",
      "grep: write error: Broken pipe\n"
     ]
    }
   ],
   "source": [
    "!grep -w \"Holmes\" ./hound.txt | head"
   ]
  },
  {
   "cell_type": "code",
   "execution_count": null,
   "metadata": {
    "id": "2bbeb50b-c90c-4d04-b89a-ac0b14daadc4"
   },
   "outputs": [],
   "source": [
    "!cat ./hound.txt | grep -oE \"\\Holmes\" > Holmes_word.txt"
   ]
  },
  {
   "cell_type": "code",
   "execution_count": null,
   "metadata": {
    "id": "8efc9655-7367-448d-a385-e162799e1da6",
    "outputId": "b11be1a3-3d58-4634-a0f2-e5ea0bbfa192"
   },
   "outputs": [
    {
     "name": "stdout",
     "output_type": "stream",
     "text": [
      "191 Holmes_word.txt\n"
     ]
    }
   ],
   "source": [
    "!wc -l Holmes_word.txt"
   ]
  },
  {
   "cell_type": "markdown",
   "metadata": {
    "id": "f926f11d-63ef-4583-9aa9-3da5bc0db95e"
   },
   "source": [
    "The number of times Watson is mentioned:"
   ]
  },
  {
   "cell_type": "code",
   "execution_count": null,
   "metadata": {
    "id": "d3f3f457-d2cc-401e-b9ec-83479b9bdd25",
    "outputId": "c1f2db01-9209-4212-cfd2-90edccb35ff1"
   },
   "outputs": [
    {
     "name": "stdout",
     "output_type": "stream",
     "text": [
      "“Well, Watson, what do you make of it?”\n",
      "me,” said he. “But, tell me, Watson, what do you make of our visitor’s\n",
      "“Really, Watson, you excel yourself,” said Holmes, pushing back his\n",
      "“I am afraid, my dear Watson, that most of your conclusions were\n",
      "“No, no, my dear Watson, not all--by no means all. I would suggest, for\n",
      "thin air, my dear Watson, and there emerges a young fellow under thirty,\n",
      "“No mention of that local hunt, Watson,” said Holmes with a mischievous\n",
      "Watson. He is a professional brother of yours, and your presence may be\n",
      "of assistance to me. Now is the dramatic moment of fate, Watson, when\n",
      "“No, this is my friend Dr. Watson.”\n",
      "grep: write error: Broken pipe\n"
     ]
    }
   ],
   "source": [
    "!grep -w \"Watson\" ./hound.txt | head"
   ]
  },
  {
   "cell_type": "code",
   "execution_count": null,
   "metadata": {
    "id": "35783d5c-5e35-4213-babf-e8af5a40c846"
   },
   "outputs": [],
   "source": [
    "!cat ./hound.txt | grep -oE \"\\Watson\" > Watson_word.txt"
   ]
  },
  {
   "cell_type": "code",
   "execution_count": null,
   "metadata": {
    "id": "ee79db01-8a1b-4cdf-ab4d-4a7943f4bf99",
    "outputId": "f34b68d4-d055-4d12-b7f3-613993ef0556"
   },
   "outputs": [
    {
     "name": "stdout",
     "output_type": "stream",
     "text": [
      "0 Watson_word.txt\n"
     ]
    }
   ],
   "source": [
    "!wc -l Watson_word.txt"
   ]
  },
  {
   "cell_type": "markdown",
   "metadata": {
    "id": "5fd7345e-855f-4987-8781-6027a6d0ecef"
   },
   "source": [
    "The number of times Barrymore is mentioned:"
   ]
  },
  {
   "cell_type": "code",
   "execution_count": null,
   "metadata": {
    "id": "8f78b7c8-0bca-41d5-9ae7-504e4abec698",
    "outputId": "bfbb93dd-89ca-4524-98fb-8aada78076ac"
   },
   "outputs": [
    {
     "name": "stdout",
     "output_type": "stream",
     "text": [
      "        Hall consisted of a married couple named Barrymore, the\n",
      "        of starting next day for London, and had ordered Barrymore\n",
      "        twelve o’clock Barrymore, finding the hall door still open,\n",
      "        of Barrymore that his master’s footprints altered their\n",
      "“On the night of Sir Charles’s death Barrymore the butler, who made\n",
      "were no other footsteps save those of Barrymore on the soft gravel, and\n",
      "made by Barrymore at the inquest. He said that there were no traces\n",
      "“No--or, let me see--why, yes. Barrymore, Sir Charles’s butler, is a man\n",
      "“Ha! Where is Barrymore?”\n",
      "do. Address to Mr. Barrymore, Baskerville Hall. What is the nearest\n",
      "grep: write error: Broken pipe\n"
     ]
    }
   ],
   "source": [
    "!grep -w \"Barrymore\" ./hound.txt | head"
   ]
  },
  {
   "cell_type": "code",
   "execution_count": null,
   "metadata": {
    "id": "ba7418f6-3f2e-4109-9bff-6bd24c17ec93"
   },
   "outputs": [],
   "source": [
    "!cat ./hound.txt | grep -oE \"\\Barrymore\" > Barrymore_word.txt"
   ]
  },
  {
   "cell_type": "code",
   "execution_count": null,
   "metadata": {
    "id": "42126657-3c0e-4b4c-a32f-ecd85f243ed0",
    "outputId": "099f8160-727c-4157-ae1a-8416e958e6bf"
   },
   "outputs": [
    {
     "name": "stdout",
     "output_type": "stream",
     "text": [
      "79 Barrymore_word.txt\n"
     ]
    }
   ],
   "source": [
    "!wc -l Barrymore_word.txt"
   ]
  },
  {
   "cell_type": "markdown",
   "metadata": {
    "id": "c86548a1-14b2-4525-9f06-35faf001d36f"
   },
   "source": [
    "The number of times Mortimer is mentioned:"
   ]
  },
  {
   "cell_type": "code",
   "execution_count": null,
   "metadata": {
    "id": "e32e395f-80c4-4358-8bc1-5770d0057082",
    "outputId": "02b50fb2-02e3-4a24-9d29-42b325d38e13"
   },
   "outputs": [
    {
     "name": "stdout",
     "output_type": "stream",
     "text": [
      "an inch across. “To James Mortimer, M.R.C.S., from his friends of the\n",
      "companion, “that Dr. Mortimer is a successful, elderly medical man,\n",
      "a pledge of their good will? Obviously at the moment when Dr. Mortimer\n",
      "        “Mortimer, James, M.R.C.S., 1882, Grimpen, Dartmoor, Devon.\n",
      "know not whether for good or ill. What does Dr. James Mortimer, the man\n",
      "Dr. Mortimer blinked through his glasses in mild astonishment. “Why was\n",
      "Dr. James Mortimer--”\n",
      "“Just a little,” said Holmes. “I think, Dr. Mortimer, you would do\n",
      "“I have in my pocket a manuscript,” said Dr. James Mortimer.\n",
      "“The exact date is 1742.” Dr. Mortimer drew it from his breast-pocket.\n",
      "grep: write error: Broken pipe\n"
     ]
    }
   ],
   "source": [
    "!grep -w \"Mortimer\" ./hound.txt | head"
   ]
  },
  {
   "cell_type": "code",
   "execution_count": null,
   "metadata": {
    "id": "794921e4-6e6d-44ab-bd94-7af897a6f346"
   },
   "outputs": [],
   "source": [
    "!cat ./hound.txt | grep -oE \"\\Mortimer\" > Mortimer_word.txt"
   ]
  },
  {
   "cell_type": "code",
   "execution_count": null,
   "metadata": {
    "id": "9a424e33-b9d3-4e80-a7ea-58a918f1bfa3",
    "outputId": "5092b981-928c-427a-feb3-6722f657488f"
   },
   "outputs": [
    {
     "name": "stdout",
     "output_type": "stream",
     "text": [
      "91 Mortimer_word.txt\n"
     ]
    }
   ],
   "source": [
    "!wc -l Mortimer_word.txt"
   ]
  },
  {
   "cell_type": "markdown",
   "metadata": {},
   "source": [
    "## Problem 1 - Part B"
   ]
  },
  {
   "cell_type": "code",
   "execution_count": null,
   "metadata": {
    "id": "b06ac730-9704-4a3c-80d0-0e38518dcd00",
    "outputId": "9313ba63-c436-4574-bf69-059af3ed5ea6"
   },
   "outputs": [
    {
     "name": "stdout",
     "output_type": "stream",
     "text": [
      "/home/ubuntu\n"
     ]
    }
   ],
   "source": [
    "!pwd"
   ]
  },
  {
   "cell_type": "code",
   "execution_count": null,
   "metadata": {
    "id": "b653a454-5743-4b1f-b8d0-6e058db77a69",
    "outputId": "96c53f48-62aa-4fbf-a6de-a21603bdb4da"
   },
   "outputs": [
    {
     "name": "stdout",
     "output_type": "stream",
     "text": [
      "\n",
      "Project Gutenberg EBook of Hamlet, by William Shakespeare\n",
      "\n",
      "This eBook is for the use of anyone anywhere in the United States and\n",
      "most other parts of the world at no cost and with almost no\n",
      "restrictions whatsoever.  You may copy it, give it away or re-use it\n",
      "under the terms of the Project Gutenberg License included with this\n",
      "eBook or online at www.gutenberg.org.  If you are not located in the\n",
      "United States, you’ll have to check the laws of the country where you\n",
      "are located before using this ebook.\n",
      "\n"
     ]
    }
   ],
   "source": [
    "!head -11 ./hamlet.txt"
   ]
  },
  {
   "cell_type": "markdown",
   "metadata": {
    "id": "09a171bb-ea88-490f-a25c-51a72125335d"
   },
   "source": [
    "The number of lines that Hamlet has:"
   ]
  },
  {
   "cell_type": "code",
   "execution_count": null,
   "metadata": {
    "id": "43c3cbf2-b787-46d1-8b02-ecd48577df88",
    "outputId": "51b4dfc0-ed32-4734-c5be-ca7635732376"
   },
   "outputs": [
    {
     "name": "stdout",
     "output_type": "stream",
     "text": [
      "*** START OF THIS PROJECT GUTENBERG EBOOK HAMLET ***\n",
      "THE TRAGEDY OF HAMLET, PRINCE OF DENMARK\n",
      "HAMLET, Prince of Denmark. CLAUDIUS, King of Denmark, Hamlet’s uncle.\n",
      "HAMLET. [_Aside._] A little more than kin, and less than kind.\n",
      "HAMLET. Not so, my lord, I am too much i’ the sun.\n",
      "HAMLET. Ay, madam, it is common.\n",
      "HAMLET. Seems, madam! Nay, it is; I know not seems. ’Tis not alone my\n",
      "HAMLET. I shall in all my best obey you, madam.\n",
      "HAMLET. O that this too too solid flesh would melt, Thaw, and resolve\n",
      "HAMLET. I am glad to see you well: Horatio, or I do forget myself.\n",
      "grep: write error: Broken pipe\n"
     ]
    }
   ],
   "source": [
    "!grep -w \"HAMLET.\" ./hamlet.txt | head"
   ]
  },
  {
   "cell_type": "code",
   "execution_count": null,
   "metadata": {
    "id": "71f50f34-3421-48c7-be99-ed3525a5b261"
   },
   "outputs": [],
   "source": [
    "!cat ./hamlet.txt | grep -oE \"\\HAMLET. \" > HAMLET_word.txt"
   ]
  },
  {
   "cell_type": "code",
   "execution_count": null,
   "metadata": {
    "id": "b9ff73a2-9060-4933-a190-fd860ef3f3b8",
    "outputId": "ff82be3d-891d-440c-a56c-8740a843396e"
   },
   "outputs": [
    {
     "name": "stdout",
     "output_type": "stream",
     "text": [
      "360 HAMLET_word.txt\n"
     ]
    }
   ],
   "source": [
    "!wc -l HAMLET_word.txt"
   ]
  },
  {
   "cell_type": "markdown",
   "metadata": {
    "id": "468e4521-7ccd-484b-85f3-010a598269dc"
   },
   "source": [
    "The number of lines that Polonius has:"
   ]
  },
  {
   "cell_type": "code",
   "execution_count": null,
   "metadata": {
    "id": "65729a33-0e86-4170-a5dd-d18f149581cb",
    "outputId": "602f92d9-de5f-44d2-ae35-696f09bd7aa4"
   },
   "outputs": [
    {
     "name": "stdout",
     "output_type": "stream",
     "text": [
      "Hamlet’s mother, now wife of Claudius. POLONIUS, Lord Chamberlain.\n",
      "POLONIUS. He hath, my lord, wrung from me my slow leave By laboursome\n",
      "POLONIUS. Yet here, Laertes? Aboard, aboard, for shame. The wind sits\n",
      "POLONIUS. The time invites you; go, your servants tend.\n",
      "POLONIUS. What is’t, Ophelia, he hath said to you?\n",
      "POLONIUS. Marry, well bethought: ’Tis told me he hath very oft of late\n",
      "POLONIUS. Affection! Pooh! You speak like a green girl, Unsifted in\n",
      "POLONIUS. Marry, I’ll teach you; think yourself a baby; That you have\n",
      "POLONIUS. Ay, fashion you may call it; go to, go to.\n",
      "POLONIUS. Ay, springes to catch woodcocks. I do know, When the blood\n",
      "grep: write error: Broken pipe\n"
     ]
    }
   ],
   "source": [
    "!grep -w \"POLONIUS.\" ./hamlet.txt | head"
   ]
  },
  {
   "cell_type": "code",
   "execution_count": null,
   "metadata": {
    "id": "c4476cd4-5064-414e-b202-5373682e50c7"
   },
   "outputs": [],
   "source": [
    "!cat ./hamlet.txt | grep -oE \"\\POLONIUS. \" > POLONIUS_word.txt"
   ]
  },
  {
   "cell_type": "code",
   "execution_count": null,
   "metadata": {
    "id": "5070f272-917f-4068-8d4d-bb13f24ac0c7",
    "outputId": "163d76ba-bab8-4e19-b335-e43df84b88fd"
   },
   "outputs": [
    {
     "name": "stdout",
     "output_type": "stream",
     "text": [
      "87 POLONIUS_word.txt\n"
     ]
    }
   ],
   "source": [
    "!wc -l POLONIUS_word.txt"
   ]
  },
  {
   "cell_type": "markdown",
   "metadata": {
    "id": "aba42952-648c-4d9d-a014-ae55e6a73439"
   },
   "source": [
    "The number of lines that Ophelia has:"
   ]
  },
  {
   "cell_type": "code",
   "execution_count": null,
   "metadata": {
    "id": "da974fb9-bf66-4e95-a0fc-9ec642c3aad2",
    "outputId": "b7efd921-0c42-4ca1-9a95-5a0bb5e96a20"
   },
   "outputs": [
    {
     "name": "stdout",
     "output_type": "stream",
     "text": [
      "OPHELIA. ’Tis in my memory lock’d, And you yourself shall keep the key\n",
      "OPHELIA. ’Tis brief, my lord.\n",
      "OPHELIA. [_Sings._] How should I your true love know From another one?\n",
      "OPHELIA. [_Sings._] Larded all with sweet flowers; Which bewept to the\n",
      "OPHELIA. [_Sings._] They bore him barefac’d on the bier, Hey no nonny,\n",
      "OPHELIA. [_Sings._] And will he not come again? And will he not come\n"
     ]
    }
   ],
   "source": [
    "!grep -w \"OPHELIA. \" ./hamlet.txt | head"
   ]
  },
  {
   "cell_type": "code",
   "execution_count": null,
   "metadata": {
    "id": "79089ef1-52b0-4b02-91cd-50b5646cde19"
   },
   "outputs": [],
   "source": [
    "!cat ./hamlet.txt | grep -oE \"\\OPHELIA. \" > OPHELIA_word.txt"
   ]
  },
  {
   "cell_type": "code",
   "execution_count": null,
   "metadata": {
    "id": "8ff9725e-0701-467e-9243-34d495a7f64a",
    "outputId": "4ac75fb9-270f-4ec0-d979-940a25371933"
   },
   "outputs": [
    {
     "name": "stdout",
     "output_type": "stream",
     "text": [
      "59 OPHELIA_word.txt\n"
     ]
    }
   ],
   "source": [
    "!wc -l OPHELIA_word.txt"
   ]
  },
  {
   "cell_type": "markdown",
   "metadata": {
    "id": "955e6d38-a334-4adf-b6f7-481425e47c8f"
   },
   "source": [
    "The number of lines that Horatio has:"
   ]
  },
  {
   "cell_type": "code",
   "execution_count": null,
   "metadata": {
    "id": "2081532e-ab3f-4c11-8124-6f79b2e51916",
    "outputId": "29058159-d5e7-4cd1-8921-6e4f696fe898"
   },
   "outputs": [
    {
     "name": "stdout",
     "output_type": "stream",
     "text": [
      "HORATIO. ’Tis here!\n",
      "HORATIO. [_Within._] Heaven secure him.\n",
      "HORATIO. [_Reads._] ‘Horatio, when thou shalt have overlooked this,\n",
      "HORATIO. ’Twere to consider too curiously to consider so.\n"
     ]
    }
   ],
   "source": [
    "!grep -w \"HORATIO. \" ./hamlet.txt | head"
   ]
  },
  {
   "cell_type": "code",
   "execution_count": null,
   "metadata": {
    "id": "9ee9789a-d32a-42fa-8fc8-e89304f18e6f"
   },
   "outputs": [],
   "source": [
    "!cat ./hamlet.txt | grep -oE \"\\HORATIO. \" > HORATIO_word.txt"
   ]
  },
  {
   "cell_type": "code",
   "execution_count": null,
   "metadata": {
    "id": "227f8d63-aefa-46b9-b8bf-3dc467f6d349",
    "outputId": "a1bde147-5937-4842-88ca-9b50fcfd08b2"
   },
   "outputs": [
    {
     "name": "stdout",
     "output_type": "stream",
     "text": [
      "107 HORATIO_word.txt\n"
     ]
    }
   ],
   "source": [
    "!wc -l HORATIO_word.txt"
   ]
  },
  {
   "cell_type": "markdown",
   "metadata": {
    "id": "67519f29-1d34-4677-b3c0-7d86ff4f475a",
    "jp-MarkdownHeadingCollapsed": true,
    "tags": []
   },
   "source": [
    "## Problem 2 - Part A"
   ]
  },
  {
   "cell_type": "code",
   "execution_count": null,
   "metadata": {
    "id": "ad916c9f-a3e8-4bae-8268-170d34be641d",
    "outputId": "e0440c4e-c00e-4c1e-fab2-69875df47f3c"
   },
   "outputs": [
    {
     "name": "stdout",
     "output_type": "stream",
     "text": [
      "--2021-09-23 15:48:55--  https://s3.amazonaws.com/dmfa-2020/project-1/2018-capitalbikeshare-tripdata.zip\n",
      "Resolving s3.amazonaws.com (s3.amazonaws.com)... 54.231.121.34\n",
      "Connecting to s3.amazonaws.com (s3.amazonaws.com)|54.231.121.34|:443... connected.\n",
      "HTTP request sent, awaiting response... 200 OK\n",
      "Length: 18365732 (18M) [application/zip]\n",
      "Saving to: ‘2018-capitalbikeshare-tripdata.zip’\n",
      "\n",
      "2018-capitalbikesha 100%[===================>]  17.51M  48.1MB/s    in 0.4s    \n",
      "\n",
      "2021-09-23 15:48:55 (48.1 MB/s) - ‘2018-capitalbikeshare-tripdata.zip’ saved [18365732/18365732]\n",
      "\n"
     ]
    }
   ],
   "source": [
    "#retrieve data file using url path\n",
    "!wget https://s3.amazonaws.com/dmfa-2020/project-1/2018-capitalbikeshare-tripdata.zip"
   ]
  },
  {
   "cell_type": "code",
   "execution_count": null,
   "metadata": {
    "id": "c8e1e4ee-d61f-40f5-b3a3-509c517d6ac7",
    "outputId": "6ee8addc-867f-407a-f6fb-e94c1348bbce"
   },
   "outputs": [
    {
     "name": "stdout",
     "output_type": "stream",
     "text": [
      "Archive:  2018-capitalbikeshare-tripdata.zip\n",
      "  inflating: 201807-capitalbikeshare-tripdata.csv  \n",
      "  inflating: 201808-capitalbikeshare-tripdata.csv  \n"
     ]
    }
   ],
   "source": [
    "#unzip to 2 inflated files\n",
    "!unzip 2018-capitalbikeshare-tripdata.zip"
   ]
  },
  {
   "cell_type": "code",
   "execution_count": null,
   "metadata": {
    "id": "5f2ecf43-3d6a-4069-87ac-c09d8b5a1559",
    "outputId": "997df86f-368f-490a-a729-e1497f662b5f"
   },
   "outputs": [
    {
     "name": "stdout",
     "output_type": "stream",
     "text": [
      "| Duration |          Start date |            End date | Start station number | Start station                  | End station number | End station                                  | Bike number | Member type |\n",
      "| -------- | ------------------- | ------------------- | -------------------- | ------------------------------ | ------------------ | -------------------------------------------- | ----------- | ----------- |\n",
      "|      267 | 2018-07-01 00:00:58 | 2018-07-01 00:05:26 |               31,608 | 8th & Eye St SE / Barracks Row |             31,610 | Eastern Market / 7th & North Carolina Ave SE | W23296      | Member      |\n",
      "|      530 | 2018-07-01 00:01:00 | 2018-07-01 00:09:50 |               31,230 | Metro Center / 12th & G St NW  |             31,266 | 11th & M St NW                               | W20838      | Member      |\n",
      "|    3,223 | 2018-07-01 00:01:07 | 2018-07-01 00:54:50 |               31,620 | 5th & F St NW                  |             31,289 | Henry Bacon Dr & Lincoln Memorial Circle NW  | W22733      | Member      |\n",
      "|    2,153 | 2018-07-01 00:01:13 | 2018-07-01 00:37:06 |               31,258 | Lincoln Memorial               |             31,208 | M St & New Jersey Ave SE                     | W00196      | Casual      |\n",
      "|    3,214 | 2018-07-01 00:01:13 | 2018-07-01 00:54:47 |               31,620 | 5th & F St NW                  |             31,289 | Henry Bacon Dr & Lincoln Memorial Circle NW  | W21070      | Member      |\n",
      "|    3,826 | 2018-07-01 00:01:14 | 2018-07-01 01:05:00 |               31,217 | USDA / 12th & C St SW          |             31,222 | New York Ave & 15th St NW                    | W21845      | Casual      |\n",
      "|    1,585 | 2018-07-01 00:01:16 | 2018-07-01 00:27:41 |               31,265 | 5th St & Massachusetts Ave NW  |             31,520 | 24th & R St NE / National Arboretum          | W22025      | Member      |\n",
      "|    2,285 | 2018-07-01 00:01:25 | 2018-07-01 00:39:30 |               31,258 | Lincoln Memorial               |             31,209 | 1st & N St  SE                               | W22145      | Casual      |\n",
      "|      742 | 2018-07-01 00:01:45 | 2018-07-01 00:14:08 |               31,609 | Maine Ave & 7th St SW          |             31,228 | 8th & H St NW                                | W21379      | Member      |\n"
     ]
    }
   ],
   "source": [
    "#examine files\n",
    "!head \"201807-capitalbikeshare-tripdata.csv\" | csvlook"
   ]
  },
  {
   "cell_type": "code",
   "execution_count": null,
   "metadata": {
    "id": "7fcefd95-77e3-4a37-b74a-d86862ba826b",
    "outputId": "f929d6af-7b8f-4441-9cab-fd16d962e8ca"
   },
   "outputs": [
    {
     "name": "stdout",
     "output_type": "stream",
     "text": [
      "| Duration |          Start date |            End date | Start station number | Start station                                         | End station number | End station                   | Bike number | Member type |\n",
      "| -------- | ------------------- | ------------------- | -------------------- | ----------------------------------------------------- | ------------------ | ----------------------------- | ----------- | ----------- |\n",
      "|      435 | 2018-08-01 00:00:48 | 2018-08-01 00:08:04 |               31,621 | 4th & D St NW / Judiciary Square                      |             31,647 | 7th St & Massachusetts Ave NE | W20369      | Member      |\n",
      "|    1,001 | 2018-08-01 00:01:30 | 2018-08-01 00:18:11 |               31,278 | 18th & R St NW                                        |             31,105 | 14th & Harvard St NW          | W21068      | Member      |\n",
      "|    1,075 | 2018-08-01 00:04:01 | 2018-08-01 00:21:56 |               31,503 | Florida Ave & R St NW                                 |             31,105 | 14th & Harvard St NW          | W21003      | Member      |\n",
      "|      896 | 2018-08-01 00:04:18 | 2018-08-01 00:19:15 |               31,018 | N Rhodes & 16th St N                                  |             31,257 | 22nd & I St NW / Foggy Bottom | W22766      | Casual      |\n",
      "|    1,517 | 2018-08-01 00:04:26 | 2018-08-01 00:29:43 |               31,289 | Henry Bacon Dr & Lincoln Memorial Circle NW           |             31,226 | 34th St & Wisconsin Ave NW    | W00232      | Member      |\n",
      "|      226 | 2018-08-01 00:04:43 | 2018-08-01 00:08:30 |               31,200 | Massachusetts Ave & Dupont Circle NW                  |             31,214 | 17th & Corcoran St NW         | W00037      | Member      |\n",
      "|      542 | 2018-08-01 00:04:52 | 2018-08-01 00:13:54 |               31,101 | 14th & V St NW                                        |             31,112 | Harvard St & Adams Mill Rd NW | W23145      | Member      |\n",
      "|      289 | 2018-08-01 00:04:56 | 2018-08-01 00:09:45 |               31,266 | 11th & M St NW                                        |             31,266 | 11th & M St NW                | W00487      | Member      |\n",
      "|      825 | 2018-08-01 00:05:19 | 2018-08-01 00:19:04 |               31,248 | Smithsonian-National Mall / Jefferson Dr & 12th St SW |             31,246 | M St & Pennsylvania Ave NW    | W22931      | Member      |\n"
     ]
    }
   ],
   "source": [
    "!head \"201808-capitalbikeshare-tripdata.csv\" | csvlook"
   ]
  },
  {
   "cell_type": "code",
   "execution_count": null,
   "metadata": {
    "id": "e5a791ed-e495-4bbb-b202-eafb6d26eda5"
   },
   "outputs": [],
   "source": [
    "#use csvstack to combine files, write to new output file\n",
    "!csvstack \"201808-capitalbikeshare-tripdata.csv\" \"201807-capitalbikeshare-tripdata.csv\" > trips.csv"
   ]
  },
  {
   "cell_type": "code",
   "execution_count": null,
   "metadata": {
    "id": "3e92771e-3325-4745-8a0b-d4491d6ba810",
    "outputId": "01a4a20f-a7cb-4799-e6d9-17db352810bf"
   },
   "outputs": [
    {
     "name": "stdout",
     "output_type": "stream",
     "text": [
      "403867 201808-capitalbikeshare-tripdata.csv\n",
      "404762 201807-capitalbikeshare-tripdata.csv\n",
      "808628 trips.csv\n"
     ]
    }
   ],
   "source": [
    "#check combined file row counts\n",
    "!wc -l \"201808-capitalbikeshare-tripdata.csv\"\n",
    "!wc -l \"201807-capitalbikeshare-tripdata.csv\"\n",
    "!wc -l trips.csv"
   ]
  },
  {
   "cell_type": "code",
   "execution_count": null,
   "metadata": {
    "id": "c4ca5714-3f17-4528-a002-0443403882a0",
    "outputId": "c378c900-01f9-45db-fa27-05833ada3028"
   },
   "outputs": [
    {
     "data": {
      "text/plain": [
       "808628"
      ]
     },
     "execution_count": 7,
     "metadata": {},
     "output_type": "execute_result"
    }
   ],
   "source": [
    "#check math, minus 1 for duplicate header\n",
    "403867+404762-1"
   ]
  },
  {
   "cell_type": "markdown",
   "metadata": {
    "id": "2bea1a2a-003c-4190-ba19-28ccd753df51"
   },
   "source": [
    "It appears as though the two files were sucessfully combined utilizing the same headers given that the separate files add up to the combined file row count."
   ]
  },
  {
   "cell_type": "code",
   "execution_count": null,
   "metadata": {
    "id": "6bfbef98-d127-4cec-b51f-79e676c860aa",
    "outputId": "55652c2b-873a-4fcf-f4ec-ccb120c07ea7"
   },
   "outputs": [
    {
     "name": "stdout",
     "output_type": "stream",
     "text": [
      "  1: Duration\n",
      "  2: Start date\n",
      "  3: End date\n",
      "  4: Start station number\n",
      "  5: Start station\n",
      "  6: End station number\n",
      "  7: End station\n",
      "  8: Bike number\n",
      "  9: Member type\n"
     ]
    }
   ],
   "source": [
    "#display list of column fields\n",
    "!csvcut -n trips.csv"
   ]
  },
  {
   "cell_type": "code",
   "execution_count": null,
   "metadata": {
    "id": "f9b9bf7d-4d46-4970-9752-709c23418cce",
    "outputId": "7ed38dfb-e0cd-4847-fc30-5766db19680f"
   },
   "outputs": [
    {
     "name": "stdout",
     "output_type": "stream",
     "text": [
      "| Duration |          Start date |            End date | Start station number | Start station                                         | End station number | End station                   | Bike number | Member type |\n",
      "| -------- | ------------------- | ------------------- | -------------------- | ----------------------------------------------------- | ------------------ | ----------------------------- | ----------- | ----------- |\n",
      "|      435 | 2018-08-01 00:00:48 | 2018-08-01 00:08:04 |               31,621 | 4th & D St NW / Judiciary Square                      |             31,647 | 7th St & Massachusetts Ave NE | W20369      | Member      |\n",
      "|    1,001 | 2018-08-01 00:01:30 | 2018-08-01 00:18:11 |               31,278 | 18th & R St NW                                        |             31,105 | 14th & Harvard St NW          | W21068      | Member      |\n",
      "|    1,075 | 2018-08-01 00:04:01 | 2018-08-01 00:21:56 |               31,503 | Florida Ave & R St NW                                 |             31,105 | 14th & Harvard St NW          | W21003      | Member      |\n",
      "|      896 | 2018-08-01 00:04:18 | 2018-08-01 00:19:15 |               31,018 | N Rhodes & 16th St N                                  |             31,257 | 22nd & I St NW / Foggy Bottom | W22766      | Casual      |\n",
      "|    1,517 | 2018-08-01 00:04:26 | 2018-08-01 00:29:43 |               31,289 | Henry Bacon Dr & Lincoln Memorial Circle NW           |             31,226 | 34th St & Wisconsin Ave NW    | W00232      | Member      |\n",
      "|      226 | 2018-08-01 00:04:43 | 2018-08-01 00:08:30 |               31,200 | Massachusetts Ave & Dupont Circle NW                  |             31,214 | 17th & Corcoran St NW         | W00037      | Member      |\n",
      "|      542 | 2018-08-01 00:04:52 | 2018-08-01 00:13:54 |               31,101 | 14th & V St NW                                        |             31,112 | Harvard St & Adams Mill Rd NW | W23145      | Member      |\n",
      "|      289 | 2018-08-01 00:04:56 | 2018-08-01 00:09:45 |               31,266 | 11th & M St NW                                        |             31,266 | 11th & M St NW                | W00487      | Member      |\n",
      "|      825 | 2018-08-01 00:05:19 | 2018-08-01 00:19:04 |               31,248 | Smithsonian-National Mall / Jefferson Dr & 12th St SW |             31,246 | M St & Pennsylvania Ave NW    | W22931      | Member      |\n"
     ]
    }
   ],
   "source": [
    "#explore combined data\n",
    "!head trips.csv | csvlook"
   ]
  },
  {
   "cell_type": "code",
   "execution_count": null,
   "metadata": {
    "id": "88d7e200-c5d8-4e18-a76b-838ad712cee8",
    "outputId": "94b40169-4ffc-4ea1-f5b9-d06d566dc8df"
   },
   "outputs": [
    {
     "name": "stdout",
     "output_type": "stream",
     "text": [
      "|   875 | 2018-07-31 23:54:19 | 2018-08-01 00:08:54 |  31246 | M St & Pennsylvania Ave NW |  31307 | 3000 Connecticut Ave NW / National Zoo | W20014 | Member |\n",
      "| ----- | ------------------- | ------------------- | ------ | -------------------------- | ------ | -------------------------------------- | ------ | ------ |\n",
      "|   167 | 2018-07-31 23:54:30 | 2018-07-31 23:57:17 | 31,241 | Thomas Circle              | 31,266 | 11th & M St NW                         | W20509 | Member |\n",
      "|   159 | 2018-07-31 23:54:34 | 2018-07-31 23:57:13 | 31,241 | Thomas Circle              | 31,266 | 11th & M St NW                         | W00616 | Member |\n",
      "|   328 | 2018-07-31 23:55:15 | 2018-08-01 00:00:43 | 31,204 | 20th & E St NW             | 31,257 | 22nd & I St NW / Foggy Bottom          | W00582 | Casual |\n",
      "| 2,476 | 2018-07-31 23:56:01 | 2018-08-01 00:37:17 | 31,008 | 12th & Army Navy Dr        | 31,274 | 10th & G St NW                         | W01466 | Member |\n",
      "|   434 | 2018-07-31 23:56:06 | 2018-08-01 00:03:20 | 31,204 | 20th & E St NW             | 31,257 | 22nd & I St NW / Foggy Bottom          | W00440 | Casual |\n",
      "|   574 | 2018-07-31 23:56:35 | 2018-08-01 00:06:10 | 31,114 | 18th St & Wyoming Ave NW   | 31,121 | Calvert St & Woodley Pl NW             | W00172 | Member |\n",
      "|   557 | 2018-07-31 23:57:39 | 2018-08-01 00:06:57 | 31,278 | 18th & R St NW             | 31,281 | 8th & O St NW                          | W22875 | Member |\n",
      "| 1,202 | 2018-07-31 23:58:17 | 2018-08-01 00:18:19 | 31,646 | Maine Ave & 9th St SW      | 31,634 | 3rd & Tingey St SE                     | W21951 | Casual |\n",
      "| 1,149 | 2018-07-31 23:59:08 | 2018-08-01 00:18:18 | 31,646 | Maine Ave & 9th St SW      | 31,634 | 3rd & Tingey St SE                     | W22431 | Casual |\n"
     ]
    }
   ],
   "source": [
    "!tail trips.csv | csvlook"
   ]
  },
  {
   "cell_type": "markdown",
   "metadata": {
    "id": "74e92bc7-b113-4c95-bb5c-05b34200ca66"
   },
   "source": [
    "### 12 Capital Bikeshare most popular departing stations in July and August 2018 in terms of number of rides"
   ]
  },
  {
   "cell_type": "code",
   "execution_count": null,
   "metadata": {
    "id": "dc9cd4af-63d3-419f-b3de-52fd1f76ac35",
    "outputId": "b6e5aacb-d43d-4b44-a0e2-a84065af228e"
   },
   "outputs": [
    {
     "name": "stdout",
     "output_type": "stream",
     "text": [
      "  15474 Lincoln Memorial\n",
      "  13082 Columbus Circle / Union Station\n",
      "  11999 Jefferson Dr & 14th St SW\n",
      "  11671 Henry Bacon Dr & Lincoln Memorial Circle NW\n",
      "  11650 4th St & Madison Dr NW\n",
      "  10357 Smithsonian-National Mall / Jefferson Dr & 12th St SW\n",
      "   9554 Jefferson Memorial\n",
      "   8620 17th St & Independence Ave SW\n",
      "   8583 Massachusetts Ave & Dupont Circle NW\n",
      "   8569 15th & P St NW\n",
      "   7711 1st & M St NE\n",
      "   7578 15th St & Constitution Ave NW\n"
     ]
    }
   ],
   "source": [
    "!csvcut -c 5 trips.csv | sort | uniq -c | sort -r | head -12"
   ]
  },
  {
   "cell_type": "markdown",
   "metadata": {
    "id": "3d6d84b5-2c88-48d1-90fd-f623bb7b0e96"
   },
   "source": [
    "### 12 Capital Bikeshare most popular destination stations in July and August 2018 in terms of number of rides"
   ]
  },
  {
   "cell_type": "code",
   "execution_count": null,
   "metadata": {
    "id": "f4017b09-16de-4611-bb4a-bf371a8fd0f1",
    "outputId": "4b2d3f09-0b70-4a71-99c3-1c131ccb08ce"
   },
   "outputs": [
    {
     "name": "stdout",
     "output_type": "stream",
     "text": [
      "  15642 Lincoln Memorial\n",
      "  13635 Columbus Circle / Union Station\n",
      "  12135 Jefferson Dr & 14th St SW\n",
      "  11722 Henry Bacon Dr & Lincoln Memorial Circle NW\n",
      "  11555 4th St & Madison Dr NW\n",
      "  10693 Smithsonian-National Mall / Jefferson Dr & 12th St SW\n",
      "   9866 Jefferson Memorial\n",
      "   9141 Massachusetts Ave & Dupont Circle NW\n",
      "   8884 15th & P St NW\n",
      "   8640 17th St & Independence Ave SW\n",
      "   8041 15th St & Constitution Ave NW\n",
      "   7813 1st & M St NE\n"
     ]
    }
   ],
   "source": [
    "!csvcut -c 7 trips.csv | sort | uniq -c | sort -r | head -12"
   ]
  },
  {
   "cell_type": "markdown",
   "metadata": {
    "id": "f1af9bdb-39a1-42b2-87e1-4fbd8794f41e"
   },
   "source": [
    "### 12 station-pairs (Departing-Destination) most popular in July and August 2018 in terms of number of rides"
   ]
  },
  {
   "cell_type": "code",
   "execution_count": null,
   "metadata": {
    "id": "303596ad-f18d-4ac8-810f-bf442d140342",
    "outputId": "b18c648e-ef2e-48c4-e391-15d940597ba5"
   },
   "outputs": [
    {
     "name": "stdout",
     "output_type": "stream",
     "text": [
      "   1633 Smithsonian-National Mall / Jefferson Dr & 12th St SW,Smithsonian-National Mall / Jefferson Dr & 12th St SW\n",
      "   1553 Jefferson Dr & 14th St SW,Jefferson Dr & 14th St SW\n",
      "   1521 Lincoln Memorial,Jefferson Memorial\n",
      "   1441 4th St & Madison Dr NW,4th St & Madison Dr NW\n",
      "   1327 Lincoln Memorial,Lincoln Memorial\n",
      "   1231 Jefferson Dr & 14th St SW,Lincoln Memorial\n",
      "   1225 17th St & Independence Ave SW,Lincoln Memorial\n",
      "   1121 Ohio Dr & West Basin Dr SW / MLK & FDR Memorials,Ohio Dr & West Basin Dr SW / MLK & FDR Memorials\n",
      "   1115 17th St & Independence Ave SW,17th St & Independence Ave SW\n",
      "   1085 Henry Bacon Dr & Lincoln Memorial Circle NW,Henry Bacon Dr & Lincoln Memorial Circle NW\n",
      "   1068 15th St & Constitution Ave NW,15th St & Constitution Ave NW\n",
      "   1062 Smithsonian-National Mall / Jefferson Dr & 12th St SW,Lincoln Memorial\n",
      "sort: write failed: 'standard output': Broken pipe\n",
      "sort: write error\n"
     ]
    }
   ],
   "source": [
    "!csvcut -c 5,7 trips.csv | sort | uniq -c | sort -r | head -12"
   ]
  },
  {
   "cell_type": "markdown",
   "metadata": {
    "id": "18a2132d-ac65-4298-a3a2-23acfbc5f1f6"
   },
   "source": [
    "It appears the Lincoln memorial has the most departures and destinations with the top 7 being the same for both categories. From the departing-destination pairs it seems common for riders to return to the same place that they started."
   ]
  },
  {
   "cell_type": "markdown",
   "metadata": {
    "id": "4fa07824-1ab0-486f-abba-25255c01417a"
   },
   "source": [
    "## Problem 2 - Part B"
   ]
  },
  {
   "cell_type": "code",
   "execution_count": null,
   "metadata": {
    "id": "de6c4f4d-9569-4b86-801a-cfc23ee925a3",
    "outputId": "4fa43186-ab5a-4af1-cb07-3fa70f738e93"
   },
   "outputs": [
    {
     "name": "stdout",
     "output_type": "stream",
     "text": [
      "| Duration |          Start date |            End date | Start station number | Start station    | End station number | End station                        | Bike number | Member type |\n",
      "| -------- | ------------------- | ------------------- | -------------------- | ---------------- | ------------------ | ---------------------------------- | ----------- | ----------- |\n",
      "|      889 | 2018-08-01 06:21:03 | 2018-08-01 06:35:52 |               31,258 | Lincoln Memorial |             31,051 | Arlington Blvd & N Queen St        | W23048      | Member      |\n",
      "|      923 | 2018-08-01 06:21:30 | 2018-08-01 06:36:54 |               31,258 | Lincoln Memorial |             31,262 | 11th & F St NW                     | W21276      | Member      |\n",
      "|    1,006 | 2018-08-01 06:21:46 | 2018-08-01 06:38:33 |               31,258 | Lincoln Memorial |             31,278 | 18th & R St NW                     | W23326      | Member      |\n",
      "|      964 | 2018-08-01 07:07:49 | 2018-08-01 07:23:54 |               31,258 | Lincoln Memorial |             31,108 | 4th & M St SW                      | W22445      | Member      |\n",
      "|    1,049 | 2018-08-01 07:11:34 | 2018-08-01 07:29:04 |               31,258 | Lincoln Memorial |             31,213 | 17th & K St NW                     | W01398      | Member      |\n",
      "|      428 | 2018-08-01 07:12:37 | 2018-08-01 07:19:45 |               31,258 | Lincoln Memorial |             31,212 | 21st & M St NW                     | W00645      | Member      |\n",
      "|      918 | 2018-08-01 07:13:18 | 2018-08-01 07:28:36 |               31,258 | Lincoln Memorial |             31,270 | 8th & D St NW                      | W00048      | Member      |\n",
      "|    1,049 | 2018-08-01 07:14:23 | 2018-08-01 07:31:52 |               31,258 | Lincoln Memorial |             31,244 | 4th & E St SW                      | W21233      | Member      |\n",
      "|    3,366 | 2018-08-01 07:15:00 | 2018-08-01 08:11:06 |               31,258 | Lincoln Memorial |             31,042 | Market Square / King St & Royal St | W01184      | Member      |\n"
     ]
    }
   ],
   "source": [
    "#check grep using regex to match first instance of \"Lincoln Memorial\" in departing station column\n",
    "!csvgrep -c 5 -r \"^Lincoln Memorial\" trips.csv | head | csvlook"
   ]
  },
  {
   "cell_type": "code",
   "execution_count": null,
   "metadata": {
    "id": "6536b717-e8ca-48d1-ab1e-026cfde0510f",
    "outputId": "311f0447-20b3-408c-9686-5161ac41abad"
   },
   "outputs": [
    {
     "name": "stdout",
     "output_type": "stream",
     "text": [
      "     18 W01311\n",
      "     17 W22553\n",
      "     16 W00919\n",
      "     15 W23074\n",
      "     15 W22567\n",
      "     15 W21882\n",
      "     15 W20527\n",
      "     14 W23311\n",
      "     14 W23003\n",
      "     14 W22369\n",
      "sort: write failed: 'standard output': Broken pipe\n",
      "sort: write error\n"
     ]
    }
   ],
   "source": [
    "#most popular departure station, 10 bikes most used\n",
    "!csvgrep -c 5 -r \"^Lincoln Memorial\" trips.csv | csvcut -c 8 | sort | uniq -c | sort -r | head -10"
   ]
  },
  {
   "cell_type": "code",
   "execution_count": null,
   "metadata": {
    "id": "29c77bc5-b83c-48bd-b62f-afcfcd5be185",
    "outputId": "c01d988d-932d-4d8e-dd48-2aee00c380dd"
   },
   "outputs": [
    {
     "name": "stdout",
     "output_type": "stream",
     "text": [
      "| Duration |          Start date |            End date | Start station number | Start station                                             | End station number | End station      | Bike number | Member type |\n",
      "| -------- | ------------------- | ------------------- | -------------------- | --------------------------------------------------------- | ------------------ | ---------------- | ----------- | ----------- |\n",
      "|    1,237 | 2018-08-01 05:00:35 | 2018-08-01 05:21:13 |               31,503 | Florida Ave & R St NW                                     |             31,258 | Lincoln Memorial | W23048      | Member      |\n",
      "|      907 | 2018-08-01 05:07:28 | 2018-08-01 05:22:36 |               31,307 | 3000 Connecticut Ave NW / National Zoo                    |             31,258 | Lincoln Memorial | W20014      | Member      |\n",
      "|      714 | 2018-08-01 05:13:01 | 2018-08-01 05:24:56 |               31,278 | 18th & R St NW                                            |             31,258 | Lincoln Memorial | W21276      | Member      |\n",
      "|      560 | 2018-08-01 05:17:12 | 2018-08-01 05:26:32 |               31,200 | Massachusetts Ave & Dupont Circle NW                      |             31,258 | Lincoln Memorial | W00048      | Member      |\n",
      "|    1,991 | 2018-08-01 05:44:54 | 2018-08-01 06:18:06 |               31,920 | Washington-Lee High School / N Stafford St & Generals Way |             31,258 | Lincoln Memorial | W01246      | Member      |\n",
      "|    1,496 | 2018-08-01 05:49:51 | 2018-08-01 06:14:47 |               31,603 | 1st & M St NE                                             |             31,258 | Lincoln Memorial | W01498      | Member      |\n",
      "|    1,467 | 2018-08-01 05:50:17 | 2018-08-01 06:14:44 |               31,603 | 1st & M St NE                                             |             31,258 | Lincoln Memorial | W23326      | Member      |\n",
      "|    1,452 | 2018-08-01 05:50:30 | 2018-08-01 06:14:43 |               31,505 | Eckington Pl & Q St NE                                    |             31,258 | Lincoln Memorial | W21824      | Member      |\n",
      "|    1,145 | 2018-08-01 06:00:08 | 2018-08-01 06:19:14 |               31,506 | 1st & Rhode Island Ave NW                                 |             31,258 | Lincoln Memorial | W21148      | Member      |\n"
     ]
    }
   ],
   "source": [
    "#check grep using regex to match first instance of \"Lincoln Memorial\" in destination station column\n",
    "!csvgrep -c 7 -r \"^Lincoln Memorial\" trips.csv | head | csvlook"
   ]
  },
  {
   "cell_type": "code",
   "execution_count": null,
   "metadata": {
    "id": "3a77f604-d8dc-4aa9-84b7-949e5a40a61b",
    "outputId": "bb318d26-f0c6-490c-ba1b-f0eec2a810d0"
   },
   "outputs": [
    {
     "name": "stdout",
     "output_type": "stream",
     "text": [
      "     17 W22553\n",
      "     17 W01311\n",
      "     16 W21882\n",
      "     16 W20527\n",
      "     16 W00919\n",
      "     15 W22567\n",
      "     15 W22369\n",
      "     14 W23311\n",
      "     14 W23074\n",
      "     14 W23003\n",
      "sort: write failed: 'standard output': Broken pipe\n",
      "sort: write error\n"
     ]
    }
   ],
   "source": [
    "#most popular destination station, 10 bikes most used\n",
    "!csvgrep -c 7 -r \"^Lincoln Memorial\" trips.csv | csvcut -c 8 | sort | uniq -c | sort -r | head -10"
   ]
  },
  {
   "cell_type": "markdown",
   "metadata": {},
   "source": [
    "## Problem 3"
   ]
  },
  {
   "cell_type": "code",
   "execution_count": 1,
   "metadata": {},
   "outputs": [
    {
     "name": "stdout",
     "output_type": "stream",
     "text": [
      "--2021-09-24 18:16:25--  https://www.fec.gov/files/bulk-downloads/data_dictionaries/cm_header_file.csv\n",
      "Resolving www.fec.gov (www.fec.gov)... 99.86.186.79, 99.86.186.91, 99.86.186.42, ...\n",
      "Connecting to www.fec.gov (www.fec.gov)|99.86.186.79|:443... connected.\n",
      "HTTP request sent, awaiting response... 302 Moved Temporarily\n",
      "Location: https://cg-519a459a-0ea3-42c2-b7bc-fa1143481f74.s3-us-gov-west-1.amazonaws.com/bulk-downloads/data_dictionaries/cm_header_file.csv [following]\n",
      "--2021-09-24 18:16:25--  https://cg-519a459a-0ea3-42c2-b7bc-fa1143481f74.s3-us-gov-west-1.amazonaws.com/bulk-downloads/data_dictionaries/cm_header_file.csv\n",
      "Resolving cg-519a459a-0ea3-42c2-b7bc-fa1143481f74.s3-us-gov-west-1.amazonaws.com (cg-519a459a-0ea3-42c2-b7bc-fa1143481f74.s3-us-gov-west-1.amazonaws.com)... 108.175.49.76\n",
      "Connecting to cg-519a459a-0ea3-42c2-b7bc-fa1143481f74.s3-us-gov-west-1.amazonaws.com (cg-519a459a-0ea3-42c2-b7bc-fa1143481f74.s3-us-gov-west-1.amazonaws.com)|108.175.49.76|:443... connected.\n",
      "HTTP request sent, awaiting response... 200 OK\n",
      "Length: 158 [binary/octet-stream]\n",
      "Saving to: ‘cm_header_file.csv’\n",
      "\n",
      "cm_header_file.csv  100%[===================>]     158  --.-KB/s    in 0s      \n",
      "\n",
      "2021-09-24 18:16:26 (8.35 MB/s) - ‘cm_header_file.csv’ saved [158/158]\n",
      "\n"
     ]
    }
   ],
   "source": [
    "#Download header file using !wget command\n",
    "!wget https://www.fec.gov/files/bulk-downloads/data_dictionaries/cm_header_file.csv"
   ]
  },
  {
   "cell_type": "code",
   "execution_count": 3,
   "metadata": {},
   "outputs": [
    {
     "name": "stdout",
     "output_type": "stream",
     "text": [
      "--2021-09-24 18:16:41--  https://www.fec.gov/files/bulk-downloads/2022/cm22.zip\n",
      "Resolving www.fec.gov (www.fec.gov)... 99.86.186.74, 99.86.186.42, 99.86.186.91, ...\n",
      "Connecting to www.fec.gov (www.fec.gov)|99.86.186.74|:443... connected.\n",
      "HTTP request sent, awaiting response... 302 Moved Temporarily\n",
      "Location: https://cg-519a459a-0ea3-42c2-b7bc-fa1143481f74.s3-us-gov-west-1.amazonaws.com/bulk-downloads/2022/cm22.zip [following]\n",
      "--2021-09-24 18:16:41--  https://cg-519a459a-0ea3-42c2-b7bc-fa1143481f74.s3-us-gov-west-1.amazonaws.com/bulk-downloads/2022/cm22.zip\n",
      "Resolving cg-519a459a-0ea3-42c2-b7bc-fa1143481f74.s3-us-gov-west-1.amazonaws.com (cg-519a459a-0ea3-42c2-b7bc-fa1143481f74.s3-us-gov-west-1.amazonaws.com)... 108.175.48.12\n",
      "Connecting to cg-519a459a-0ea3-42c2-b7bc-fa1143481f74.s3-us-gov-west-1.amazonaws.com (cg-519a459a-0ea3-42c2-b7bc-fa1143481f74.s3-us-gov-west-1.amazonaws.com)|108.175.48.12|:443... connected.\n",
      "HTTP request sent, awaiting response... 200 OK\n",
      "Length: 676393 (661K) [application/zip]\n",
      "Saving to: ‘cm22.zip’\n",
      "\n",
      "cm22.zip            100%[===================>] 660.54K  1.83MB/s    in 0.4s    \n",
      "\n",
      "2021-09-24 18:16:42 (1.83 MB/s) - ‘cm22.zip’ saved [676393/676393]\n",
      "\n"
     ]
    }
   ],
   "source": [
    "#Download zip file using !wget command\n",
    "!wget https://www.fec.gov/files/bulk-downloads/2022/cm22.zip"
   ]
  },
  {
   "cell_type": "code",
   "execution_count": 4,
   "metadata": {},
   "outputs": [
    {
     "name": "stdout",
     "output_type": "stream",
     "text": [
      "Archive:  cm22.zip\n",
      "  inflating: cm.txt                  \n"
     ]
    }
   ],
   "source": [
    "#Unzip zip file using !unzip command\n",
    "!unzip cm22.zip"
   ]
  },
  {
   "cell_type": "code",
   "execution_count": 5,
   "metadata": {},
   "outputs": [],
   "source": [
    "#Convert text file to csv using csvkit (!csvformat). Set pipe(|) as delimiter.\n",
    "!csvformat -d \"|\" cm.txt >> cm.csv"
   ]
  },
  {
   "cell_type": "code",
   "execution_count": 11,
   "metadata": {},
   "outputs": [],
   "source": [
    "#Used csvstack to merge both csv header file and csv data file.\n",
    "!csvstack cm_header_file.csv cm.csv > candidate.csv"
   ]
  },
  {
   "cell_type": "code",
   "execution_count": 12,
   "metadata": {},
   "outputs": [
    {
     "name": "stdout",
     "output_type": "stream",
     "text": [
      "CMTE_ID,CMTE_NM,TRES_NM,CMTE_ST1,CMTE_ST2,CMTE_CITY,CMTE_ST,CMTE_ZIP,CMTE_DSGN,CMTE_TP,CMTE_PTY_AFFILIATION,CMTE_FILING_FREQ,ORG_TP,CONNECTED_ORG_NM,CAND_ID\n",
      "C00000422,AMERICAN MEDICAL ASSOCIATION POLITICAL ACTION COMMITTEE,\"WALKER, KEVIN MR.\",\"25 MASSACHUSETTS AVE, NW\",SUITE 600,WASHINGTON,DC,200017400,B,Q,,M,M,ALABAMA MEDICAL PAC,\n",
      "C00000489,D R I V E POLITICAL FUND CHAPTER 886,JERRY SIMS JR,3528 W RENO,,OKLAHOMA CITY,OK,73107,U,N,,Q,L,,\n",
      "C00000547,KANSAS MEDICAL SOCIETY POLITICAL ACTION COMMITTEE,JERRY SLAUGHTER,623 SW 10TH AVE,,TOPEKA,KS,666121627,U,Q,UNK,Q,M,KANSAS MEDICAL SOCIETY,\n",
      "C00000729,AMERICAN DENTAL ASSOCIATION POLITICAL ACTION COMMITTEE,\"DI VINCENZO, GIORGIO T. DR.\",\"1111 14TH STREET, NW\",SUITE 1100,WASHINGTON,DC,200055627,B,Q,UNK,Q,M,,\n",
      "C00000885,INTERNATIONAL UNION OF PAINTERS AND ALLIED TRADES POLITICAL ACTION TOGETHER POLITICAL COMMITTEE,\"GALIS, GEORGE\",7234 PARKWAY DRIVE,,HANOVER,MD,21076,B,Q,UNK,M,L,INTERNATIONAL UNION OF PAINTERS AND ALLIED TRADES,\n",
      "C00000901,BUILD POLITICAL ACTION COMMITTEE OF THE NATIONAL ASSOCIATION OF HOME BUILDERS (BUILDPAC),\"RAMAGE, EILEEN\",\"1201 15TH STREET, NW\",,WASHINGTON,DC,20005,B,Q,UNK,M,T,NATIONAL ASSOCIATION OF HOME BUILDERS,\n",
      "C00000935,DCCC,\"PERSICO, TIMOTHY\",\"430 SOUTH CAPITOL STREET, SE\",2ND FLOOR,WASHINGTON,DC,200034024,U,Y,DEM,M,,,\n",
      "C00000984,UNITED STATES TELECOM ASSOCIATION POLITICAL ACTION COMMITTEE (TELECOMPAC),\"HEINER, BRANDON\",601 NEW JERSEY AVE NW,STE 600,WASHINGTON,DC,20001,B,Q,UNK,M,T,UNITED STATES TELECOM ASSOCIATION,\n",
      "C00001016,CARPENTERS LEGISLATIVE IMPROVEMENT COMMITTEE UNITED BROTHERHOOD OF CARPENTERS AND JOINERS,\"FLYNN, THOMAS\",\"101 CONSTIUTION AVENUE, NW\",10TH FLOOR WEST,WASHINGTON,DC,20001,B,Q,NNE,M,L,UNITED BROTHERHOOD OF CARPENTERS AND JOINERS OF AMERICA,\n"
     ]
    }
   ],
   "source": [
    "#show first 10 rows with !head command to confirm merged csv file.\n",
    "!head -10 candidate.csv"
   ]
  },
  {
   "cell_type": "code",
   "execution_count": 13,
   "metadata": {},
   "outputs": [
    {
     "name": "stdout",
     "output_type": "stream",
     "text": [
      "| CMTE_ID   | CMTE_NM                                                                                         | TRES_NM                     | CMTE_ST1                     | CMTE_ST2        | ... |\n",
      "| --------- | ----------------------------------------------------------------------------------------------- | --------------------------- | ---------------------------- | --------------- | --- |\n",
      "| C00000422 | AMERICAN MEDICAL ASSOCIATION POLITICAL ACTION COMMITTEE                                         | WALKER, KEVIN MR.           | 25 MASSACHUSETTS AVE, NW     | SUITE 600       | ... |\n",
      "| C00000489 | D R I V E POLITICAL FUND CHAPTER 886                                                            | JERRY SIMS JR               | 3528 W RENO                  |                 | ... |\n",
      "| C00000547 | KANSAS MEDICAL SOCIETY POLITICAL ACTION COMMITTEE                                               | JERRY SLAUGHTER             | 623 SW 10TH AVE              |                 | ... |\n",
      "| C00000729 | AMERICAN DENTAL ASSOCIATION POLITICAL ACTION COMMITTEE                                          | DI VINCENZO, GIORGIO T. DR. | 1111 14TH STREET, NW         | SUITE 1100      | ... |\n",
      "| C00000885 | INTERNATIONAL UNION OF PAINTERS AND ALLIED TRADES POLITICAL ACTION TOGETHER POLITICAL COMMITTEE | GALIS, GEORGE               | 7234 PARKWAY DRIVE           |                 | ... |\n",
      "| C00000901 | BUILD POLITICAL ACTION COMMITTEE OF THE NATIONAL ASSOCIATION OF HOME BUILDERS (BUILDPAC)        | RAMAGE, EILEEN              | 1201 15TH STREET, NW         |                 | ... |\n",
      "| C00000935 | DCCC                                                                                            | PERSICO, TIMOTHY            | 430 SOUTH CAPITOL STREET, SE | 2ND FLOOR       | ... |\n",
      "| C00000984 | UNITED STATES TELECOM ASSOCIATION POLITICAL ACTION COMMITTEE (TELECOMPAC)                       | HEINER, BRANDON             | 601 NEW JERSEY AVE NW        | STE 600         | ... |\n",
      "| C00001016 | CARPENTERS LEGISLATIVE IMPROVEMENT COMMITTEE UNITED BROTHERHOOD OF CARPENTERS AND JOINERS       | FLYNN, THOMAS               | 101 CONSTIUTION AVENUE, NW   | 10TH FLOOR WEST | ... |\n"
     ]
    }
   ],
   "source": [
    "#display header and first 5 columns and 20 rows of the combined file\n",
    "!head candidate.csv | csvlook --max-columns 5"
   ]
  },
  {
   "cell_type": "code",
   "execution_count": 4,
   "metadata": {},
   "outputs": [
    {
     "name": "stdout",
     "output_type": "stream",
     "text": [
      "CMTE_ID,CMTE_NM,TRES_NM,CMTE_ST1,CMTE_ST2,CMTE_CITY,CMTE_ST,CMTE_ZIP,CMTE_DSGN,CMTE_TP,CMTE_PTY_AFFILIATION,CMTE_FILING_FREQ,ORG_TP,CONNECTED_ORG_NM,CAND_ID\n",
      "C00214072,\"UNIVERSAL LEAF TOBACCO COMPANY, INCORPORATED POLITICAL ACTION COMMITTEE (FEDERAL)\",\"DESSART, BENJAMIN\",9201 FOREST HILL AVENUE,STONY POINT II BUILDING,RICHMOND,VA,23235,U,Q,,M,C,\"UNIVERSAL LEAF TOBACCO COMPANY, INCORPORATED\",\n",
      "C00701177,MERRITT FOR CONGRESS,\"BREWER, JAMES TROY\",PO BOX 30501,479 JOHNNY MERCER BLVD,SAVANNAH,GA,31410,P,H,REP,Q,,NONE,H0GA01060\n",
      "C00728154,\"MIKE BLOOMBERG 2020, INC.\",\"HOROWITZ, HAYDEN\",909 THIRD AVENUE,C/O GELLER & COMPANY,NEW YORK,NY,10022,P,P,DEM,Q,,,P00014530\n",
      "C00760546,\"STRONGER FOUNDATIONS, INC.\",\"DIPALMA, ANDREW\",100 CHARLES EWING BLVD SUITE 160,C/O CORPORATION SERVICE COMPANY,EWING,NJ,08628,U,O,,Q,,,\n",
      "C00787937,REECE WRIGHT-MCDONALD FOR PRESIDENT 2024,\"WRIGHT, LINDSEY SUE MRS\",\"7497 S. BROAD ST. NEW YORK, NY 100\",\"7497 S. BROAD ST. NEW YORK, NY 100\",NEW YORK,NY,10001,P,P,REP,Q,,NONE,P40006447\n",
      "C00788422,NEW LABOR PARTY OF AMERICA,\"MCDONALD, CHRIS MR\",\"9368 SUMMER AVE. NEW YORK, NY 1003\",\"9368 SUMMER AVE. NEW YORK, NY 1003\",NEW YORK CITY,NY,10001,U,X,IDP,Q,,NONE,\n"
     ]
    }
   ],
   "source": [
    "#show all republicans with office in New York.\n",
    "!csvgrep -c3 -r \"(?i)REP\" -c5 -r \"(?i)NY\" candidate.csv "
   ]
  },
  {
   "cell_type": "code",
   "execution_count": 8,
   "metadata": {},
   "outputs": [
    {
     "name": "stdout",
     "output_type": "stream",
     "text": [
      "      2 PLATINUM BOSS INC COMMITTEE OF GURPINDER SINGH SAGOO,\"SAGOO, GURPINDER SINGH\",18735 GILMORE ST,,RESEDA,CA,91335,P,P,REP,Q,,NONE,P20005443\n",
      "      2 DIGNITY CA SEIU LOCAL 2015,DERECK SMITH,2910 BEVERLY BLVD,,LOS ANGELES,CA,90057,U,C,,Q,L,,\n"
     ]
    }
   ],
   "source": [
    "#Provide the names of the committees that appear more than two times in this dataset\n",
    "!csvcut -c2-15 candidate.csv |sort| uniq -cd | sort -r | head"
   ]
  },
  {
   "cell_type": "code",
   "execution_count": null,
   "metadata": {},
   "outputs": [],
   "source": []
  }
 ],
 "metadata": {
  "colab": {
   "name": "problem1_PartA.ipynb",
   "provenance": []
  },
  "kernelspec": {
   "display_name": "Python 3",
   "language": "python",
   "name": "python3"
  },
  "language_info": {
   "codemirror_mode": {
    "name": "ipython",
    "version": 3
   },
   "file_extension": ".py",
   "mimetype": "text/x-python",
   "name": "python",
   "nbconvert_exporter": "python",
   "pygments_lexer": "ipython3",
   "version": "3.7.6"
  }
 },
 "nbformat": 4,
 "nbformat_minor": 5
}
